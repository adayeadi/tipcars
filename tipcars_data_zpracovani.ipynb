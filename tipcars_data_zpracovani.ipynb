{
 "cells": [
  {
   "cell_type": "code",
   "execution_count": 17,
   "id": "635c9b74",
   "metadata": {},
   "outputs": [],
   "source": [
    "import pandas as pd\n",
    "import numpy as np\n",
    "from sklearn.preprocessing import LabelEncoder"
   ]
  },
  {
   "cell_type": "code",
   "execution_count": 18,
   "id": "015c00f7",
   "metadata": {},
   "outputs": [],
   "source": [
    "data = pd.read_csv('tipcars.csv', delimiter=';')"
   ]
  },
  {
   "cell_type": "code",
   "execution_count": 19,
   "id": "22434374",
   "metadata": {},
   "outputs": [
    {
     "data": {
      "text/plain": [
       "id              0\n",
       "znacka          0\n",
       "model          46\n",
       "vyrobeno      119\n",
       "stav         3095\n",
       "tachometr     696\n",
       "objem         527\n",
       "vykon          39\n",
       "palivo          0\n",
       "karoserie     136\n",
       "barva         191\n",
       "metaliza      191\n",
       "typ             0\n",
       "cena            0\n",
       "dtype: int64"
      ]
     },
     "execution_count": 19,
     "metadata": {},
     "output_type": "execute_result"
    }
   ],
   "source": [
    "data.isnull().sum()"
   ]
  },
  {
   "cell_type": "code",
   "execution_count": 20,
   "id": "348eda07",
   "metadata": {},
   "outputs": [],
   "source": [
    "data = data.dropna(subset=['model']) # Odstranění řádků, kde je prázdný atribut 'model'"
   ]
  },
  {
   "cell_type": "code",
   "execution_count": 21,
   "id": "9ba7b5c8",
   "metadata": {},
   "outputs": [],
   "source": [
    "# Převod eurů na koruny\n",
    "def eur_czk(cena):\n",
    "    if 'EUR' in cena:\n",
    "        cena = cena.replace('EUR', '').replace(' ', '').strip()\n",
    "        return float(cena) * 25\n",
    "    else:\n",
    "        return float(cena.replace(' ', ''))\n",
    "\n",
    "data['cena'] = data['cena'].apply(eur_czk) "
   ]
  },
  {
   "cell_type": "code",
   "execution_count": 22,
   "id": "b2869554",
   "metadata": {},
   "outputs": [
    {
     "name": "stdout",
     "output_type": "stream",
     "text": [
      "id             int64\n",
      "znacka        object\n",
      "model         object\n",
      "vyrobeno     float64\n",
      "stav          object\n",
      "tachometr    float64\n",
      "objem        float64\n",
      "vykon        float64\n",
      "palivo        object\n",
      "karoserie     object\n",
      "barva         object\n",
      "metaliza      object\n",
      "typ           object\n",
      "cena         float64\n",
      "dtype: object\n"
     ]
    }
   ],
   "source": [
    "print(data.dtypes) # Oveření datových typu "
   ]
  },
  {
   "cell_type": "code",
   "execution_count": 23,
   "id": "4fefc8ff",
   "metadata": {},
   "outputs": [],
   "source": [
    "# Funkce pro vypočet průměrného roku jednotlivých stavů\n",
    "def compute_mean_years(data, column, condition_column):\n",
    "    unique_conditions = data[condition_column].unique()\n",
    "    mean_years = {}\n",
    "    \n",
    "    for condition in unique_conditions:\n",
    "        condition_data = data[(data[condition_column] == condition) & (~data[column].isnull())]\n",
    "        mean_value = condition_data[column].mean()\n",
    "        \n",
    "        if not np.isnan(mean_value):\n",
    "            mean_years[condition] = round(mean_value)\n",
    "        else:\n",
    "            mean_years[condition] = None\n",
    "        \n",
    "    return mean_years\n",
    "\n",
    "mean_years_by_condition = compute_mean_years(data, 'vyrobeno', 'stav')"
   ]
  },
  {
   "cell_type": "code",
   "execution_count": 24,
   "id": "52f72fdd",
   "metadata": {},
   "outputs": [],
   "source": [
    "# Funkce pro vyplnění hodnot u atributu vyrobeno podle stavu\n",
    "def fillna_based_on_condition(data, column, condition_column, mean_values):\n",
    "    missing_rows = data[column].isnull()\n",
    "    \n",
    "    for index, row in data[missing_rows].iterrows():\n",
    "        condition = row[condition_column]\n",
    "        data.at[index, column] = mean_values[condition]\n",
    "\n",
    "fillna_based_on_condition(data, 'vyrobeno', 'stav', mean_years_by_condition)"
   ]
  },
  {
   "cell_type": "code",
   "execution_count": 25,
   "id": "0539909d",
   "metadata": {},
   "outputs": [],
   "source": [
    "# Funkce pro vypočet nejbližšího stavu podle roku\n",
    "def find_closest_category(year, mean_years):\n",
    "    closest_condition = None\n",
    "    closest_difference = float('inf')\n",
    "    \n",
    "    for condition, mean_year in mean_years.items():\n",
    "        if mean_year is not None:\n",
    "            difference = abs(year - mean_year)\n",
    "            if difference < closest_difference:\n",
    "                closest_difference = difference\n",
    "                closest_condition = condition\n",
    "                \n",
    "    return closest_condition"
   ]
  },
  {
   "cell_type": "code",
   "execution_count": 26,
   "id": "7eb5b0e8",
   "metadata": {},
   "outputs": [],
   "source": [
    "# Vyplnění hodnot u atributu stav\n",
    "def fillna_state_based_on_year(data, column, condition_column, mean_values):\n",
    "    missing_rows = data[column].isnull()\n",
    "    \n",
    "    for index, row in data[missing_rows].iterrows():\n",
    "        year = row[condition_column]\n",
    "        closest_condition = find_closest_category(year, mean_values)\n",
    "        data.at[index, column] = closest_condition\n",
    "        \n",
    "fillna_state_based_on_year(data, 'stav', 'vyrobeno', mean_years_by_condition)"
   ]
  },
  {
   "cell_type": "code",
   "execution_count": 27,
   "id": "8b98c91f",
   "metadata": {},
   "outputs": [],
   "source": [
    "# Pokud auto má stav nové vozidlo bude typ převeden na nové\n",
    "def update_type(row):\n",
    "    if row['stav'] == 'nové vozidlo':\n",
    "        row['typ'] = 'nové'\n",
    "    return row\n",
    "\n",
    "data = data.apply(update_type, axis=1)"
   ]
  },
  {
   "cell_type": "code",
   "execution_count": 28,
   "id": "24ebef66",
   "metadata": {},
   "outputs": [],
   "source": [
    "data.loc[(data['tachometr'].isnull()) & (data['typ'] == 'nové'), 'tachometr'] = 0 # Pokud auto v typu nové tachometr bude 0"
   ]
  },
  {
   "cell_type": "code",
   "execution_count": 29,
   "id": "e8054aeb",
   "metadata": {},
   "outputs": [],
   "source": [
    "# Funkce pro vypočet objemu a výkonu podle značky, modelu a roku vyroby auta\n",
    "def compute_mean_values(data, column, groupby_columns):\n",
    "    grouped_data = data.groupby(groupby_columns).agg({column: 'mean'}).reset_index()\n",
    "\n",
    "    mean_values = {}\n",
    "    for index, row in grouped_data.iterrows():\n",
    "        brand_model_year_tuple = tuple(row[groupby_columns])\n",
    "        if not np.isnan(row[column]):\n",
    "            mean_values[brand_model_year_tuple] = round(row[column])\n",
    "        else:\n",
    "            mean_values[brand_model_year_tuple] = np.nan\n",
    "\n",
    "    return mean_values\n",
    "\n",
    "mean_vykon = compute_mean_values(data, 'vykon', ['znacka', 'model', 'vyrobeno'])\n",
    "mean_objem = compute_mean_values(data, 'objem', ['znacka', 'model', 'vyrobeno'])"
   ]
  },
  {
   "cell_type": "code",
   "execution_count": 30,
   "id": "35679e40",
   "metadata": {},
   "outputs": [],
   "source": [
    "# Funkce pro vyplnění chybejicích hodnot\n",
    "def fillna_based_on_brand_model_and_year(data, column, groupby_columns, mean_values):\n",
    "    missing_rows = data[column].isnull()\n",
    "\n",
    "    for index, row in data[missing_rows].iterrows():\n",
    "        if row['palivo'] != 'elektro':\n",
    "            brand_model_year_tuple = tuple(row[groupby_columns])\n",
    "\n",
    "            if brand_model_year_tuple in mean_values:\n",
    "                data.at[index, column] = mean_values[brand_model_year_tuple]\n",
    "\n",
    "# Vyplnění chybejicích hodnot u atributů vykon a objem\n",
    "fillna_based_on_brand_model_and_year(data, 'vykon', ['znacka', 'model', 'vyrobeno'], mean_vykon) #\n",
    "fillna_based_on_brand_model_and_year(data, 'objem', ['znacka', 'model', 'vyrobeno'], mean_objem) #"
   ]
  },
  {
   "cell_type": "code",
   "execution_count": 31,
   "id": "d8e864e7",
   "metadata": {},
   "outputs": [],
   "source": [
    "# Funkce pro vypočet mody pro atribut karoserie\n",
    "def compute_mode_values(data, column, groupby_columns):\n",
    "    grouped_data = data.groupby(groupby_columns)[column].agg(pd.Series.mode).reset_index()\n",
    "    mode_values = {}\n",
    "\n",
    "    for _, row in grouped_data.iterrows():\n",
    "        key = tuple(row[groupby_columns].values)\n",
    "        mode = row[column]\n",
    "        if isinstance(mode, pd.Series) or isinstance(mode, np.ndarray):\n",
    "            mode = mode[0] if len(mode) > 0 else None\n",
    "        mode_values[key] = mode\n",
    "\n",
    "    return mode_values\n",
    "\n",
    "mode_karoserie = compute_mode_values(data, 'karoserie', ['znacka', 'model']) #"
   ]
  },
  {
   "cell_type": "code",
   "execution_count": 32,
   "id": "870e4efe",
   "metadata": {},
   "outputs": [],
   "source": [
    "# Funkce pro vyplnění chybejicích hodnot u atrubutu karoserie\n",
    "def fillna_using_modes(row, column, mode_values, groupby_columns):\n",
    "    if pd.isna(row[column]):\n",
    "        key = tuple(row[groupby_columns].values)\n",
    "        if key in mode_values:\n",
    "            return mode_values[key]\n",
    "    return row[column]\n",
    "\n",
    "data['karoserie'] = data.apply(lambda row: fillna_using_modes(row, 'karoserie', mode_karoserie, ['znacka', 'model']), axis=1)"
   ]
  },
  {
   "cell_type": "code",
   "execution_count": 33,
   "id": "7b51accb",
   "metadata": {},
   "outputs": [],
   "source": [
    "# Vylpnění hodnot u atributu barva podle distribuci v datasetu\n",
    "color_distribution = data['barva'].value_counts(normalize=True)\n",
    "colors = color_distribution.index\n",
    "color_probabilities = color_distribution.values\n",
    "\n",
    "data.loc[data['barva'].isnull(), 'barva'] = np.random.choice(colors, size=data['barva'].isnull().sum(),p=color_probabilities)"
   ]
  },
  {
   "cell_type": "code",
   "execution_count": 34,
   "id": "fefd344f",
   "metadata": {},
   "outputs": [],
   "source": [
    "# Vylpnění hodnot u atributu metaliza podle distribuci v datasetu\n",
    "metaliza_distribution = data['metaliza'].value_counts(normalize=True)\n",
    "metaliza_values = metaliza_distribution.index\n",
    "metaliza_probabilities = metaliza_distribution.values\n",
    "\n",
    "data.loc[data['metaliza'].isnull(), 'metaliza'] = np.random.choice(metaliza_values, size=data['metaliza'].isnull().sum(), p=metaliza_probabilities)\n",
    "#"
   ]
  },
  {
   "cell_type": "code",
   "execution_count": 35,
   "id": "25beda01",
   "metadata": {},
   "outputs": [],
   "source": [
    "# Odstranění zaznamů, které stalé mají chybejicí hodnoty\n",
    "data = data.dropna(subset=['tachometr'])\n",
    "data = data.dropna(subset=['vykon'])\n",
    "data = data[~((data['palivo'] != 'elektro') & (data['objem'].isnull()))]"
   ]
  },
  {
   "cell_type": "code",
   "execution_count": 36,
   "id": "a356cd13",
   "metadata": {},
   "outputs": [],
   "source": [
    "# Nastavení horní a dolní hranicí pro odstranění anomalií\n",
    "upper_bound_vykon = 610\n",
    "data = data[(data['vykon'] <= upper_bound_vykon)]\n",
    "\n",
    "lower_bound_objem = 400\n",
    "upper_bound_objem = 10000\n",
    "data = data[((data['objem'] >= lower_bound_objem) & (data['objem'] < upper_bound_objem)) | (pd.isna(data['objem']))]\n",
    "\n",
    "data = data[data['tachometr'] != 1752128]\n",
    "\n",
    "upper_bound_cena = 20000000\n",
    "data = data[(data['cena'] < upper_bound_cena)]"
   ]
  },
  {
   "cell_type": "code",
   "execution_count": 174,
   "id": "ce0d8e2b",
   "metadata": {},
   "outputs": [],
   "source": [
    "data.to_csv('tipcars_final.csv')"
   ]
  },
  {
   "cell_type": "code",
   "execution_count": 37,
   "id": "642947c7",
   "metadata": {},
   "outputs": [
    {
     "data": {
      "text/plain": [
       "17932"
      ]
     },
     "execution_count": 37,
     "metadata": {},
     "output_type": "execute_result"
    }
   ],
   "source": [
    "len(data)"
   ]
  }
 ],
 "metadata": {
  "kernelspec": {
   "display_name": "Python 3 (ipykernel)",
   "language": "python",
   "name": "python3"
  },
  "language_info": {
   "codemirror_mode": {
    "name": "ipython",
    "version": 3
   },
   "file_extension": ".py",
   "mimetype": "text/x-python",
   "name": "python",
   "nbconvert_exporter": "python",
   "pygments_lexer": "ipython3",
   "version": "3.11.2"
  }
 },
 "nbformat": 4,
 "nbformat_minor": 5
}
